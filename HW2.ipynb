{
 "cells": [
  {
   "cell_type": "markdown",
   "metadata": {},
   "source": [
    "# Yuyu Fan & Yining Shen"
   ]
  },
  {
   "cell_type": "code",
   "execution_count": 108,
   "metadata": {},
   "outputs": [],
   "source": [
    "%matplotlib inline\n",
    "import matplotlib.pyplot as plt\n",
    "import numpy as np\n",
    "import pandas as pd\n",
    "from pandas import DataFrame\n",
    "from sklearn import linear_model\n",
    "from sklearn.model_selection import train_test_split\n",
    "from sklearn.metrics import r2_score\n",
    "from sklearn.tree import DecisionTreeClassifier\n",
    "from sklearn.ensemble import RandomForestClassifier"
   ]
  },
  {
   "cell_type": "code",
   "execution_count": 109,
   "metadata": {},
   "outputs": [
    {
     "data": {
      "text/html": [
       "<div>\n",
       "<style scoped>\n",
       "    .dataframe tbody tr th:only-of-type {\n",
       "        vertical-align: middle;\n",
       "    }\n",
       "\n",
       "    .dataframe tbody tr th {\n",
       "        vertical-align: top;\n",
       "    }\n",
       "\n",
       "    .dataframe thead th {\n",
       "        text-align: right;\n",
       "    }\n",
       "</style>\n",
       "<table border=\"1\" class=\"dataframe\">\n",
       "  <thead>\n",
       "    <tr style=\"text-align: right;\">\n",
       "      <th></th>\n",
       "      <th>0.455</th>\n",
       "      <th>0.365</th>\n",
       "      <th>0.095</th>\n",
       "      <th>0.514</th>\n",
       "      <th>0.2245</th>\n",
       "      <th>0.101</th>\n",
       "      <th>0.15</th>\n",
       "      <th>15</th>\n",
       "    </tr>\n",
       "  </thead>\n",
       "  <tbody>\n",
       "    <tr>\n",
       "      <th>0</th>\n",
       "      <td>0.350</td>\n",
       "      <td>0.265</td>\n",
       "      <td>0.090</td>\n",
       "      <td>0.2255</td>\n",
       "      <td>0.0995</td>\n",
       "      <td>0.0485</td>\n",
       "      <td>0.070</td>\n",
       "      <td>7</td>\n",
       "    </tr>\n",
       "    <tr>\n",
       "      <th>1</th>\n",
       "      <td>0.530</td>\n",
       "      <td>0.420</td>\n",
       "      <td>0.135</td>\n",
       "      <td>0.6770</td>\n",
       "      <td>0.2565</td>\n",
       "      <td>0.1415</td>\n",
       "      <td>0.210</td>\n",
       "      <td>9</td>\n",
       "    </tr>\n",
       "    <tr>\n",
       "      <th>2</th>\n",
       "      <td>0.440</td>\n",
       "      <td>0.365</td>\n",
       "      <td>0.125</td>\n",
       "      <td>0.5160</td>\n",
       "      <td>0.2155</td>\n",
       "      <td>0.1140</td>\n",
       "      <td>0.155</td>\n",
       "      <td>10</td>\n",
       "    </tr>\n",
       "    <tr>\n",
       "      <th>3</th>\n",
       "      <td>0.330</td>\n",
       "      <td>0.255</td>\n",
       "      <td>0.080</td>\n",
       "      <td>0.2050</td>\n",
       "      <td>0.0895</td>\n",
       "      <td>0.0395</td>\n",
       "      <td>0.055</td>\n",
       "      <td>7</td>\n",
       "    </tr>\n",
       "    <tr>\n",
       "      <th>4</th>\n",
       "      <td>0.425</td>\n",
       "      <td>0.300</td>\n",
       "      <td>0.095</td>\n",
       "      <td>0.3515</td>\n",
       "      <td>0.1410</td>\n",
       "      <td>0.0775</td>\n",
       "      <td>0.120</td>\n",
       "      <td>8</td>\n",
       "    </tr>\n",
       "  </tbody>\n",
       "</table>\n",
       "</div>"
      ],
      "text/plain": [
       "   0.455  0.365  0.095   0.514  0.2245   0.101   0.15  15\n",
       "0  0.350  0.265  0.090  0.2255  0.0995  0.0485  0.070   7\n",
       "1  0.530  0.420  0.135  0.6770  0.2565  0.1415  0.210   9\n",
       "2  0.440  0.365  0.125  0.5160  0.2155  0.1140  0.155  10\n",
       "3  0.330  0.255  0.080  0.2050  0.0895  0.0395  0.055   7\n",
       "4  0.425  0.300  0.095  0.3515  0.1410  0.0775  0.120   8"
      ]
     },
     "execution_count": 109,
     "metadata": {},
     "output_type": "execute_result"
    }
   ],
   "source": [
    "abalone=pd.read_csv(r\"C:\\Users\\18800\\Desktop\\20 Fall\\STA 5635 Applied Machine Learning\\Data\\abalone.csv\")\n",
    "abalone.head()"
   ]
  },
  {
   "cell_type": "code",
   "execution_count": 110,
   "metadata": {},
   "outputs": [],
   "source": [
    "abalone_X=abalone.iloc[:,:7]\n",
    "abalone_Y = abalone.iloc[:,7]"
   ]
  },
  {
   "cell_type": "code",
   "execution_count": 111,
   "metadata": {},
   "outputs": [],
   "source": [
    "## problem a##\n",
    "count = 0\n",
    "test_r2 = 0\n",
    "train_r2 = 0\n",
    "for i in range(0,10,1):\n",
    "    X_train,X_test,Y_train,Y_test = train_test_split(abalone_X,abalone_Y,test_size =0.2)\n",
    "    lr = linear_model.Ridge(alpha = 0.0001)\n",
    "    lr.fit(X_train,Y_train)\n",
    "    test_predict = lr.predict(X_test)\n",
    "    train_predict = lr.predict(X_train)\n",
    "    test_r2+=(r2_score(Y_test,test_predict))\n",
    "    train_r2+=(r2_score(Y_train,train_predict))\n",
    "    count +=1\n",
    "avg_test_r2 = test_r2 / count\n",
    "avg_train_r2 = train_r2/ count"
   ]
  },
  {
   "cell_type": "code",
   "execution_count": 112,
   "metadata": {},
   "outputs": [
    {
     "name": "stdout",
     "output_type": "stream",
     "text": [
      "The Average Training R^2 :0.525 \n",
      "The Average Testing R^2 :0.535 \n"
     ]
    }
   ],
   "source": [
    "print('The Average Training R^2 :%.3f '%avg_train_r2)\n",
    "print('The Average Testing R^2 :%.3f '%avg_test_r2)"
   ]
  },
  {
   "cell_type": "code",
   "execution_count": 113,
   "metadata": {},
   "outputs": [],
   "source": [
    "## problem b##\n",
    "avg_test_r2=[]\n",
    "avg_train_r2=[]\n",
    "for i in range(1,8,1):\n",
    "    count = 0\n",
    "    test_r2 = 0\n",
    "    train_r2 = 0\n",
    "    for j in range(1,11,1):\n",
    "        X_train,X_test,Y_train,Y_test = train_test_split(abalone_X,abalone_Y,test_size =0.2)\n",
    "        clf = DecisionTreeRegressor(criterion=\"mse\", max_depth=i)\n",
    "        # Train Decision Tree Classifer\n",
    "        clf = clf.fit(X_train,Y_train)\n",
    "        \n",
    "        #Predict the response for test dataset\n",
    "        test_predict = clf.predict(X_test)\n",
    "        train_predict = clf.predict(X_train)\n",
    "        test_r2+=(r2_score(Y_test,test_predict))\n",
    "        train_r2+=(r2_score(Y_train,train_predict))\n",
    "        count +=1\n",
    "    avg_test_r2.append(test_r2 / count)\n",
    "    avg_train_r2.append(train_r2 / count)"
   ]
  },
  {
   "cell_type": "code",
   "execution_count": 114,
   "metadata": {},
   "outputs": [
    {
     "data": {
      "text/plain": [
       "<matplotlib.legend.Legend at 0x2d7ac664cc0>"
      ]
     },
     "execution_count": 114,
     "metadata": {},
     "output_type": "execute_result"
    },
    {
     "data": {
      "image/png": "[encoded data removed]",
      "text/plain": [
       "<Figure size 432x288 with 1 Axes>"
      ]
     },
     "metadata": {
      "needs_background": "light"
     },
     "output_type": "display_data"
    }
   ],
   "source": [
    "plt.plot(range(1,8,1), avg_train_r2, label = 'Training R_squared' )\n",
    "plt.plot(range(1,8,1), avg_test_r2, label = 'Test R_squared' )\n",
    "plt.grid()\n",
    "plt.xlabel('Tree Depth')\n",
    "plt.ylabel('Average R_squared')\n",
    "plt.legend()"
   ]
  },
  {
   "cell_type": "code",
   "execution_count": 115,
   "metadata": {},
   "outputs": [],
   "source": [
    "## problem c##\n",
    "avg_test_r2=[]\n",
    "avg_train_r2=[]\n",
    "kTrees =[10,30,100]\n",
    "for i in kTrees:\n",
    "    count = 0\n",
    "    test_r2 = 0\n",
    "    train_r2 = 0\n",
    "    for j in range(1,11,1):\n",
    "        X_train,X_test,Y_train,Y_test = train_test_split(abalone_X,abalone_Y,test_size =0.2)\n",
    "        clf = RandomForestClassifier(n_estimators=i)\n",
    "        # Train Decision Tree Classifer\n",
    "        clf = clf.fit(X_train,Y_train)\n",
    "        \n",
    "        #Predict the response for test dataset\n",
    "        test_predict = clf.predict(X_test)\n",
    "        train_predict = clf.predict(X_train)\n",
    "        test_r2+=(r2_score(Y_test,test_predict))\n",
    "        train_r2+=(r2_score(Y_train,train_predict))\n",
    "        count +=1\n",
    "    avg_test_r2.append(test_r2 / count)\n",
    "    avg_train_r2.append(train_r2 / count)"
   ]
  },
  {
   "cell_type": "code",
   "execution_count": 117,
   "metadata": {},
   "outputs": [
    {
     "name": "stdout",
     "output_type": "stream",
     "text": [
      "The Average Training R_squared:\n",
      "[0.9802026502851, 0.9999281488735251, 1.0]\n",
      "The Average Testing R_squared:\n",
      "[0.29797018590536234, 0.3616379471139725, 0.367754903387811]\n"
     ]
    },
    {
     "data": {
      "text/plain": [
       "<matplotlib.legend.Legend at 0x2d7ac624518>"
      ]
     },
     "execution_count": 117,
     "metadata": {},
     "output_type": "execute_result"
    },
    {
     "data": {
      "image/png": "[encoded data removed]",
      "text/plain": [
       "<Figure size 432x288 with 1 Axes>"
      ]
     },
     "metadata": {
      "needs_background": "light"
     },
     "output_type": "display_data"
    }
   ],
   "source": [
    "print('The Average Training R_squared:')\n",
    "print(avg_train_r2)\n",
    "print('The Average Testing R_squared:')\n",
    "print(avg_test_r2)\n",
    "\n",
    "plt.plot(kTrees,avg_train_r2, label = 'training R_squared' )\n",
    "plt.plot(kTrees, avg_test_r2, label = 'test R_squared')\n",
    "plt.xlabel('number of trees')\n",
    "plt.ylabel('Average R_squared')\n",
    "plt.grid()\n",
    "plt.legend()"
   ]
  }
 ],
 "metadata": {
  "kernelspec": {
   "display_name": "Python 3",
   "language": "python",
   "name": "python3"
  },
  "language_info": {
   "codemirror_mode": {
    "name": "ipython",
    "version": 3
   },
   "file_extension": ".py",
   "mimetype": "text/x-python",
   "name": "python",
   "nbconvert_exporter": "python",
   "pygments_lexer": "ipython3",
   "version": "3.7.3"
  }
 },
 "nbformat": 4,
 "nbformat_minor": 2
}
