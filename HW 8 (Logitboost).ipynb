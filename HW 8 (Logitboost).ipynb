{
 "cells": [
  {
   "cell_type": "markdown",
   "metadata": {},
   "source": [
    "\\hfill Department of Statistics\n",
    "\n",
    "\\hfill Jaeyeong Kim"
   ]
  },
  {
   "cell_type": "code",
   "execution_count": 2,
   "metadata": {},
   "outputs": [],
   "source": [
    "import numpy as np\n",
    "from sklearn import linear_model\n",
    "from sklearn import preprocessing\n",
    "import pandas as pd\n",
    "\n",
    "def sigmoid(x):\n",
    "    return 1/(1+np.exp(-np.float64(x)))\n",
    "\n",
    "def logitboost(X_train, X_valid, Y_train, Y_valid, k):\n",
    "    #get shapes of the train and the validation data sets\n",
    "    X_train = np.matrix(X_train)\n",
    "    X_valid = np.matrix(X_valid)\n",
    "    n, m = X_train.shape\n",
    "    n1,m1 = X_valid.shape\n",
    "\n",
    "    #set w0 = 0\n",
    "    beta = np.zeros((m,1))\n",
    "    loss = np.zeros((k,2))\n",
    "    ik = 0\n",
    "    \n",
    "    for i in range(k):\n",
    "        H = np.dot(X_train,beta)\n",
    "        p = sigmoid(2*H)\n",
    "        w = np.multiply(p, (1-p))\n",
    "        w[abs(w) < 1.e-20] = 1.e-20\n",
    "        z = np.divide(((Y_train + 1)/2 - p), w)\n",
    "                \n",
    "        coef = np.matrix(np.zeros((2, m-1)))\n",
    "        newloss = np.matrix(np.zeros((m-1,1)))\n",
    "        \n",
    "        for j in range(m-1):\n",
    "            Xj = X_train[:, j+1]\n",
    "            a = np.sum(w)\n",
    "            b = np.sum(np.multiply(w, Xj))\n",
    "            c = np.sum(np.multiply(w, np.multiply(Xj, Xj)))\n",
    "            d = np.sum(np.multiply(w, z))\n",
    "            e = np.sum(np.multiply(np.multiply(w, Xj), z))\n",
    "            if (a*c - b**2) == 0:\n",
    "                betaj = np.matrix([[d/a], [0]])\n",
    "            else:\n",
    "                betaj = 1/(a*c - b**2) * np.matrix([[c*d - b*e], [a*e - b*d]])\n",
    "            Hj = H + 1/2*(betaj[0] + np.multiply(betaj[1], Xj))\n",
    "            lossj = np.sum(np.log(1+np.exp(-2*np.multiply(Y_train, Hj))))\n",
    "            coef[:,j] = betaj\n",
    "            newloss[j] = lossj\n",
    "        \n",
    "        j_ = np.argmin(newloss)\n",
    "        beta[0] = beta[0] + 1/2 * coef[0,j_]\n",
    "        beta[j_+1] = beta[j_+1] + 1/2 * coef[1,j_]\n",
    "        loss[i] = i+1, newloss[j_]\n",
    "            \n",
    "    return beta, loss"
   ]
  },
  {
   "cell_type": "markdown",
   "metadata": {},
   "source": [
    "## gisette"
   ]
  },
  {
   "cell_type": "code",
   "execution_count": 3,
   "metadata": {},
   "outputs": [
    {
     "ename": "ValueError",
     "evalue": "matrix must be 2-dimensional",
     "output_type": "error",
     "traceback": [
      "\u001b[1;31m---------------------------------------------------------------------------\u001b[0m",
      "\u001b[1;31mValueError\u001b[0m                                Traceback (most recent call last)",
      "\u001b[1;32m<ipython-input-3-382d159749c2>\u001b[0m in \u001b[0;36m<module>\u001b[1;34m\u001b[0m\n\u001b[0;32m     24\u001b[0m \u001b[1;32mfor\u001b[0m \u001b[0mk\u001b[0m \u001b[1;32min\u001b[0m \u001b[0mks\u001b[0m\u001b[1;33m:\u001b[0m\u001b[1;33m\u001b[0m\u001b[1;33m\u001b[0m\u001b[0m\n\u001b[0;32m     25\u001b[0m     \u001b[1;31m#X_train, X_valid, Y_train, Y_valid, iteration\u001b[0m\u001b[1;33m\u001b[0m\u001b[1;33m\u001b[0m\u001b[1;33m\u001b[0m\u001b[0m\n\u001b[1;32m---> 26\u001b[1;33m     \u001b[0mbeta\u001b[0m\u001b[1;33m,\u001b[0m \u001b[0mloss\u001b[0m \u001b[1;33m=\u001b[0m \u001b[0mlogitboost\u001b[0m\u001b[1;33m(\u001b[0m\u001b[0mX_train\u001b[0m\u001b[1;33m,\u001b[0m \u001b[0mX_valid\u001b[0m\u001b[1;33m,\u001b[0m \u001b[0mY_train\u001b[0m\u001b[1;33m,\u001b[0m \u001b[0mY_valid\u001b[0m\u001b[1;33m,\u001b[0m \u001b[0mk\u001b[0m\u001b[1;33m)\u001b[0m\u001b[1;33m\u001b[0m\u001b[1;33m\u001b[0m\u001b[0m\n\u001b[0m\u001b[0;32m     27\u001b[0m     \u001b[0mY_predict_train\u001b[0m \u001b[1;33m=\u001b[0m \u001b[0mnp\u001b[0m\u001b[1;33m.\u001b[0m\u001b[0msign\u001b[0m\u001b[1;33m(\u001b[0m\u001b[0mnp\u001b[0m\u001b[1;33m.\u001b[0m\u001b[0mdot\u001b[0m\u001b[1;33m(\u001b[0m\u001b[0mX_train\u001b[0m\u001b[1;33m,\u001b[0m \u001b[0mbeta\u001b[0m\u001b[1;33m)\u001b[0m\u001b[1;33m)\u001b[0m\u001b[1;33m\u001b[0m\u001b[1;33m\u001b[0m\u001b[0m\n\u001b[0;32m     28\u001b[0m     \u001b[0mY_predict_valid\u001b[0m \u001b[1;33m=\u001b[0m \u001b[0mnp\u001b[0m\u001b[1;33m.\u001b[0m\u001b[0msign\u001b[0m\u001b[1;33m(\u001b[0m\u001b[0mnp\u001b[0m\u001b[1;33m.\u001b[0m\u001b[0mdot\u001b[0m\u001b[1;33m(\u001b[0m\u001b[0mX_valid\u001b[0m\u001b[1;33m,\u001b[0m \u001b[0mbeta\u001b[0m\u001b[1;33m)\u001b[0m\u001b[1;33m)\u001b[0m\u001b[1;33m\u001b[0m\u001b[1;33m\u001b[0m\u001b[0m\n",
      "\u001b[1;32m<ipython-input-2-840d25856d51>\u001b[0m in \u001b[0;36mlogitboost\u001b[1;34m(X_train, X_valid, Y_train, Y_valid, k)\u001b[0m\n\u001b[0;32m     39\u001b[0m                 \u001b[0mbetaj\u001b[0m \u001b[1;33m=\u001b[0m \u001b[0mnp\u001b[0m\u001b[1;33m.\u001b[0m\u001b[0mmatrix\u001b[0m\u001b[1;33m(\u001b[0m\u001b[1;33m[\u001b[0m\u001b[1;33m[\u001b[0m\u001b[0md\u001b[0m\u001b[1;33m/\u001b[0m\u001b[0ma\u001b[0m\u001b[1;33m]\u001b[0m\u001b[1;33m,\u001b[0m \u001b[1;33m[\u001b[0m\u001b[1;36m0\u001b[0m\u001b[1;33m]\u001b[0m\u001b[1;33m]\u001b[0m\u001b[1;33m)\u001b[0m\u001b[1;33m\u001b[0m\u001b[1;33m\u001b[0m\u001b[0m\n\u001b[0;32m     40\u001b[0m             \u001b[1;32melse\u001b[0m\u001b[1;33m:\u001b[0m\u001b[1;33m\u001b[0m\u001b[1;33m\u001b[0m\u001b[0m\n\u001b[1;32m---> 41\u001b[1;33m                 \u001b[0mbetaj\u001b[0m \u001b[1;33m=\u001b[0m \u001b[1;36m1\u001b[0m\u001b[1;33m/\u001b[0m\u001b[1;33m(\u001b[0m\u001b[0ma\u001b[0m\u001b[1;33m*\u001b[0m\u001b[0mc\u001b[0m \u001b[1;33m-\u001b[0m \u001b[0mb\u001b[0m\u001b[1;33m**\u001b[0m\u001b[1;36m2\u001b[0m\u001b[1;33m)\u001b[0m \u001b[1;33m*\u001b[0m \u001b[0mnp\u001b[0m\u001b[1;33m.\u001b[0m\u001b[0mmatrix\u001b[0m\u001b[1;33m(\u001b[0m\u001b[1;33m[\u001b[0m\u001b[1;33m[\u001b[0m\u001b[0mc\u001b[0m\u001b[1;33m*\u001b[0m\u001b[0md\u001b[0m \u001b[1;33m-\u001b[0m \u001b[0mb\u001b[0m\u001b[1;33m*\u001b[0m\u001b[0me\u001b[0m\u001b[1;33m]\u001b[0m\u001b[1;33m,\u001b[0m \u001b[1;33m[\u001b[0m\u001b[0ma\u001b[0m\u001b[1;33m*\u001b[0m\u001b[0me\u001b[0m \u001b[1;33m-\u001b[0m \u001b[0mb\u001b[0m\u001b[1;33m*\u001b[0m\u001b[0md\u001b[0m\u001b[1;33m]\u001b[0m\u001b[1;33m]\u001b[0m\u001b[1;33m)\u001b[0m\u001b[1;33m\u001b[0m\u001b[1;33m\u001b[0m\u001b[0m\n\u001b[0m\u001b[0;32m     42\u001b[0m             \u001b[0mHj\u001b[0m \u001b[1;33m=\u001b[0m \u001b[0mH\u001b[0m \u001b[1;33m+\u001b[0m \u001b[1;36m1\u001b[0m\u001b[1;33m/\u001b[0m\u001b[1;36m2\u001b[0m\u001b[1;33m*\u001b[0m\u001b[1;33m(\u001b[0m\u001b[0mbetaj\u001b[0m\u001b[1;33m[\u001b[0m\u001b[1;36m0\u001b[0m\u001b[1;33m]\u001b[0m \u001b[1;33m+\u001b[0m \u001b[0mnp\u001b[0m\u001b[1;33m.\u001b[0m\u001b[0mmultiply\u001b[0m\u001b[1;33m(\u001b[0m\u001b[0mbetaj\u001b[0m\u001b[1;33m[\u001b[0m\u001b[1;36m1\u001b[0m\u001b[1;33m]\u001b[0m\u001b[1;33m,\u001b[0m \u001b[0mXj\u001b[0m\u001b[1;33m)\u001b[0m\u001b[1;33m)\u001b[0m\u001b[1;33m\u001b[0m\u001b[1;33m\u001b[0m\u001b[0m\n\u001b[0;32m     43\u001b[0m             \u001b[0mlossj\u001b[0m \u001b[1;33m=\u001b[0m \u001b[0mnp\u001b[0m\u001b[1;33m.\u001b[0m\u001b[0msum\u001b[0m\u001b[1;33m(\u001b[0m\u001b[0mnp\u001b[0m\u001b[1;33m.\u001b[0m\u001b[0mlog\u001b[0m\u001b[1;33m(\u001b[0m\u001b[1;36m1\u001b[0m\u001b[1;33m+\u001b[0m\u001b[0mnp\u001b[0m\u001b[1;33m.\u001b[0m\u001b[0mexp\u001b[0m\u001b[1;33m(\u001b[0m\u001b[1;33m-\u001b[0m\u001b[1;36m2\u001b[0m\u001b[1;33m*\u001b[0m\u001b[0mnp\u001b[0m\u001b[1;33m.\u001b[0m\u001b[0mmultiply\u001b[0m\u001b[1;33m(\u001b[0m\u001b[0mY_train\u001b[0m\u001b[1;33m,\u001b[0m \u001b[0mHj\u001b[0m\u001b[1;33m)\u001b[0m\u001b[1;33m)\u001b[0m\u001b[1;33m)\u001b[0m\u001b[1;33m)\u001b[0m\u001b[1;33m\u001b[0m\u001b[1;33m\u001b[0m\u001b[0m\n",
      "\u001b[1;32m~\\Anaconda3\\lib\\site-packages\\numpy\\matrixlib\\defmatrix.py\u001b[0m in \u001b[0;36m__new__\u001b[1;34m(subtype, data, dtype, copy)\u001b[0m\n\u001b[0;32m    149\u001b[0m         \u001b[0mshape\u001b[0m \u001b[1;33m=\u001b[0m \u001b[0marr\u001b[0m\u001b[1;33m.\u001b[0m\u001b[0mshape\u001b[0m\u001b[1;33m\u001b[0m\u001b[1;33m\u001b[0m\u001b[0m\n\u001b[0;32m    150\u001b[0m         \u001b[1;32mif\u001b[0m \u001b[1;33m(\u001b[0m\u001b[0mndim\u001b[0m \u001b[1;33m>\u001b[0m \u001b[1;36m2\u001b[0m\u001b[1;33m)\u001b[0m\u001b[1;33m:\u001b[0m\u001b[1;33m\u001b[0m\u001b[1;33m\u001b[0m\u001b[0m\n\u001b[1;32m--> 151\u001b[1;33m             \u001b[1;32mraise\u001b[0m \u001b[0mValueError\u001b[0m\u001b[1;33m(\u001b[0m\u001b[1;34m\"matrix must be 2-dimensional\"\u001b[0m\u001b[1;33m)\u001b[0m\u001b[1;33m\u001b[0m\u001b[1;33m\u001b[0m\u001b[0m\n\u001b[0m\u001b[0;32m    152\u001b[0m         \u001b[1;32melif\u001b[0m \u001b[0mndim\u001b[0m \u001b[1;33m==\u001b[0m \u001b[1;36m0\u001b[0m\u001b[1;33m:\u001b[0m\u001b[1;33m\u001b[0m\u001b[1;33m\u001b[0m\u001b[0m\n\u001b[0;32m    153\u001b[0m             \u001b[0mshape\u001b[0m \u001b[1;33m=\u001b[0m \u001b[1;33m(\u001b[0m\u001b[1;36m1\u001b[0m\u001b[1;33m,\u001b[0m \u001b[1;36m1\u001b[0m\u001b[1;33m)\u001b[0m\u001b[1;33m\u001b[0m\u001b[1;33m\u001b[0m\u001b[0m\n",
      "\u001b[1;31mValueError\u001b[0m: matrix must be 2-dimensional"
     ]
    }
   ],
   "source": [
    "# Reading in the gisette data set\n",
    "X_train = pd.read_csv(r\"C:\\Users\\18800\\Desktop\\20 Fall\\STA 5635 Applied Machine Learning\\data/Gisette/gisette_train.data\", header = None,\\\n",
    "                     delimiter = ' ').dropna(axis='columns')\n",
    "Y_train = pd.read_csv(r\"C:\\Users\\18800\\Desktop\\20 Fall\\STA 5635 Applied Machine Learning\\data/Gisette/gisette_train.labels\", header = None)\n",
    "\n",
    "X_valid = pd.read_csv(r\"C:\\Users\\18800\\Desktop\\20 Fall\\STA 5635 Applied Machine Learning\\data/Gisette/gisette_valid.data\", header = None, \\\n",
    "                     delimiter = ' ').dropna(axis='columns')\n",
    "Y_valid = pd.read_csv(r\"C:\\Users\\18800\\Desktop\\20 Fall\\STA 5635 Applied Machine Learning\\data/Gisette/gisette_valid.labels\", header = None)\n",
    "\n",
    "\n",
    "#data processing\n",
    "n, m = X_train.shape\n",
    "n1,m1 = X_valid.shape\n",
    "ones = pd.DataFrame(np.ones((n,1)))\n",
    "ones1 = pd.DataFrame(np.ones((n1,1)))\n",
    "X_train = pd.concat([ones, X_train], axis=1, ignore_index = True)\n",
    "X_valid = pd.concat([ones1, X_valid], axis=1, ignore_index = True)\n",
    "\n",
    "\n",
    "ks = np.array([10, 30, 100, 300])\n",
    "error_results = []\n",
    "loss_result = []\n",
    "# Run logistic regression\n",
    "for k in ks:\n",
    "    #X_train, X_valid, Y_train, Y_valid, iteration\n",
    "    beta, loss = logitboost(X_train, X_valid, Y_train, Y_valid, k)\n",
    "    Y_predict_train = np.sign(np.dot(X_train, beta))\n",
    "    Y_predict_valid = np.sign(np.dot(X_valid, beta))\n",
    "    \n",
    "    Y_score_train = 0\n",
    "    Y_score_valid = 0\n",
    "    for j in range(n):\n",
    "        if Y_predict_train[j] == np.array(Y_train)[j]:\n",
    "            Y_score_train += 1\n",
    "        else :\n",
    "            continue\n",
    "    for j in range(n1):\n",
    "        if Y_predict_valid[j] == np.array(Y_valid)[j]:\n",
    "            Y_score_valid += 1\n",
    "        else :\n",
    "            continue\n",
    "    error_train = 1 - np.sum(Y_score_train)/n\n",
    "    error_test = 1 - np.sum(Y_score_valid)/n1\n",
    "    \n",
    "    error_results.append((k, error_train, error_test))\n",
    "    if k == 300:\n",
    "        loss_result = loss\n",
    "        \n",
    "x1 = pd.DataFrame(data = error_results, columns = ['k',\\\n",
    "                                'error_train', 'error_valid'])\n",
    "y1 = pd.DataFrame(data = loss_result, columns = ['i', 'loss'])\n",
    "\n",
    "x1"
   ]
  },
  {
   "cell_type": "code",
   "execution_count": 3,
   "metadata": {},
   "outputs": [
    {
     "data": {
      "image/png": "[encoded data removed]",
      "text/plain": [
       "<Figure size 720x216 with 2 Axes>"
      ]
     },
     "metadata": {
      "needs_background": "light"
     },
     "output_type": "display_data"
    }
   ],
   "source": [
    "import matplotlib.pyplot as plt\n",
    "%matplotlib inline\n",
    "\n",
    "# Plot the results\n",
    "plt.figure(figsize=(10,3))\n",
    "plt.subplot(121)\n",
    "plt.plot(x1['k'], x1['error_train'], 'r-*', label='error of train set')\n",
    "plt.plot(x1['k'], x1['error_valid'], 'b-o', label='error of valid set')\n",
    "plt.xlabel('iteration')\n",
    "plt.ylabel('errors')\n",
    "plt.legend()\n",
    "\n",
    "plt.subplot(122)\n",
    "plt.plot(y1['i'], y1['loss'], 'r-', label='k=300')\n",
    "plt.xlabel('iteration')\n",
    "plt.ylabel('loss')\n",
    "plt.legend()\n",
    "plt.show()"
   ]
  },
  {
   "cell_type": "markdown",
   "metadata": {},
   "source": [
    "## dexter"
   ]
  },
  {
   "cell_type": "code",
   "execution_count": 33,
   "metadata": {
    "scrolled": false
   },
   "outputs": [
    {
     "data": {
      "text/html": [
       "<div>\n",
       "<style scoped>\n",
       "    .dataframe tbody tr th:only-of-type {\n",
       "        vertical-align: middle;\n",
       "    }\n",
       "\n",
       "    .dataframe tbody tr th {\n",
       "        vertical-align: top;\n",
       "    }\n",
       "\n",
       "    .dataframe thead th {\n",
       "        text-align: right;\n",
       "    }\n",
       "</style>\n",
       "<table border=\"1\" class=\"dataframe\">\n",
       "  <thead>\n",
       "    <tr style=\"text-align: right;\">\n",
       "      <th></th>\n",
       "      <th>k</th>\n",
       "      <th>error_train</th>\n",
       "      <th>error_valid</th>\n",
       "    </tr>\n",
       "  </thead>\n",
       "  <tbody>\n",
       "    <tr>\n",
       "      <th>0</th>\n",
       "      <td>10</td>\n",
       "      <td>0.073333</td>\n",
       "      <td>0.106667</td>\n",
       "    </tr>\n",
       "    <tr>\n",
       "      <th>1</th>\n",
       "      <td>30</td>\n",
       "      <td>0.003333</td>\n",
       "      <td>0.093333</td>\n",
       "    </tr>\n",
       "    <tr>\n",
       "      <th>2</th>\n",
       "      <td>100</td>\n",
       "      <td>0.000000</td>\n",
       "      <td>0.090000</td>\n",
       "    </tr>\n",
       "    <tr>\n",
       "      <th>3</th>\n",
       "      <td>300</td>\n",
       "      <td>0.000000</td>\n",
       "      <td>0.083333</td>\n",
       "    </tr>\n",
       "  </tbody>\n",
       "</table>\n",
       "</div>"
      ],
      "text/plain": [
       "     k  error_train  error_valid\n",
       "0   10     0.073333     0.106667\n",
       "1   30     0.003333     0.093333\n",
       "2  100     0.000000     0.090000\n",
       "3  300     0.000000     0.083333"
      ]
     },
     "execution_count": 33,
     "metadata": {},
     "output_type": "execute_result"
    }
   ],
   "source": [
    "# Reading in the dexter data set\n",
    "X_train = pd.read_csv('dexter\\dexter_train.csv', header = None)\\\n",
    "                      .dropna(axis='columns')\n",
    "Y_train = pd.read_csv('dexter\\dexter_train.labels', header = None)\n",
    "\n",
    "X_valid = pd.read_csv('dexter\\dexter_valid.csv', header = None)\\\n",
    "                      .dropna(axis='columns')\n",
    "Y_valid = pd.read_csv('dexter\\dexter_valid.labels', header = None)\n",
    "\n",
    "#data processing\n",
    "n, m = X_train.shape\n",
    "n1,m1 = X_valid.shape\n",
    "ones = pd.DataFrame(np.ones((n,1)))\n",
    "ones1 = pd.DataFrame(np.ones((n1,1)))\n",
    "X_train = pd.concat([ones, X_train], axis=1, ignore_index = True)\n",
    "X_valid = pd.concat([ones1, X_valid], axis=1, ignore_index = True)\n",
    "\n",
    "\n",
    "ks = np.array([10, 30, 100, 300])\n",
    "error_results = []\n",
    "loss_result = []\n",
    "# Run logistic regression\n",
    "for k in ks:\n",
    "    #X_train, X_valid, Y_train, Y_valid, iteration\n",
    "    beta, loss = logitboost(X_train, X_valid, Y_train, Y_valid, k)\n",
    "    Y_predict_train = np.sign(np.dot(X_train, beta))\n",
    "    Y_predict_valid = np.sign(np.dot(X_valid, beta))\n",
    "    \n",
    "    Y_score_train = 0\n",
    "    Y_score_valid = 0\n",
    "    for j in range(n):\n",
    "        if Y_predict_train[j] == np.array(Y_train)[j]:\n",
    "            Y_score_train += 1\n",
    "        else :\n",
    "            continue\n",
    "    for j in range(n1):\n",
    "        if Y_predict_valid[j] == np.array(Y_valid)[j]:\n",
    "            Y_score_valid += 1\n",
    "        else :\n",
    "            continue\n",
    "    error_train = 1 - np.sum(Y_score_train)/n\n",
    "    error_test = 1 - np.sum(Y_score_valid)/n1\n",
    "    \n",
    "    error_results.append((k, error_train, error_test))\n",
    "    if k == 300:\n",
    "        loss_result = loss\n",
    "        \n",
    "x2 = pd.DataFrame(data = error_results, columns = ['k',\\\n",
    "                                'error_train', 'error_valid'])\n",
    "y2 = pd.DataFrame(data = loss_result, columns = ['i', 'loss'])\n",
    "\n",
    "x2"
   ]
  },
  {
   "cell_type": "code",
   "execution_count": 34,
   "metadata": {},
   "outputs": [
    {
     "data": {
      "image/png": "[encoded data removed]",
      "text/plain": [
       "<Figure size 720x216 with 2 Axes>"
      ]
     },
     "metadata": {
      "needs_background": "light"
     },
     "output_type": "display_data"
    }
   ],
   "source": [
    "import matplotlib.pyplot as plt\n",
    "%matplotlib inline\n",
    "\n",
    "# Plot the results\n",
    "plt.figure(figsize=(10,3))\n",
    "plt.subplot(121)\n",
    "plt.plot(x2['k'], x2['error_train'], 'r-*', label='error of train set')\n",
    "plt.plot(x2['k'], x2['error_valid'], 'b-o', label='error of valid set')\n",
    "plt.xlabel('iteration')\n",
    "plt.ylabel('errors')\n",
    "plt.legend()\n",
    "\n",
    "plt.subplot(122)\n",
    "plt.plot(y2['i'], y2['loss'], 'r-', label='k=300')\n",
    "plt.xlabel('iteration')\n",
    "plt.ylabel('loss')\n",
    "plt.legend()\n",
    "plt.show()"
   ]
  },
  {
   "cell_type": "markdown",
   "metadata": {},
   "source": [
    "## madelon"
   ]
  },
  {
   "cell_type": "code",
   "execution_count": 6,
   "metadata": {},
   "outputs": [
    {
     "data": {
      "text/html": [
       "<div>\n",
       "<style scoped>\n",
       "    .dataframe tbody tr th:only-of-type {\n",
       "        vertical-align: middle;\n",
       "    }\n",
       "\n",
       "    .dataframe tbody tr th {\n",
       "        vertical-align: top;\n",
       "    }\n",
       "\n",
       "    .dataframe thead th {\n",
       "        text-align: right;\n",
       "    }\n",
       "</style>\n",
       "<table border=\"1\" class=\"dataframe\">\n",
       "  <thead>\n",
       "    <tr style=\"text-align: right;\">\n",
       "      <th></th>\n",
       "      <th>k</th>\n",
       "      <th>error_train</th>\n",
       "      <th>error_valid</th>\n",
       "    </tr>\n",
       "  </thead>\n",
       "  <tbody>\n",
       "    <tr>\n",
       "      <th>0</th>\n",
       "      <td>10</td>\n",
       "      <td>0.3770</td>\n",
       "      <td>0.403333</td>\n",
       "    </tr>\n",
       "    <tr>\n",
       "      <th>1</th>\n",
       "      <td>30</td>\n",
       "      <td>0.3450</td>\n",
       "      <td>0.428333</td>\n",
       "    </tr>\n",
       "    <tr>\n",
       "      <th>2</th>\n",
       "      <td>100</td>\n",
       "      <td>0.3090</td>\n",
       "      <td>0.433333</td>\n",
       "    </tr>\n",
       "    <tr>\n",
       "      <th>3</th>\n",
       "      <td>300</td>\n",
       "      <td>0.2695</td>\n",
       "      <td>0.431667</td>\n",
       "    </tr>\n",
       "  </tbody>\n",
       "</table>\n",
       "</div>"
      ],
      "text/plain": [
       "     k  error_train  error_valid\n",
       "0   10       0.3770     0.403333\n",
       "1   30       0.3450     0.428333\n",
       "2  100       0.3090     0.433333\n",
       "3  300       0.2695     0.431667"
      ]
     },
     "execution_count": 6,
     "metadata": {},
     "output_type": "execute_result"
    }
   ],
   "source": [
    "# Reading in the MADELON data set\n",
    "X_train = pd.read_csv('madelon\\madelon_train.data', header = None,\\\n",
    "                      delimiter = ' ').dropna(axis='columns')\n",
    "Y_train = pd.read_csv('madelon\\madelon_train.labels', header = None)\n",
    "\n",
    "X_valid = pd.read_csv('madelon\\madelon_valid.data', header = None, \\\n",
    "                      delimiter = ' ').dropna(axis='columns')\n",
    "Y_valid = pd.read_csv('madelon\\madelon_valid.labels', header = None)\n",
    "\n",
    "\n",
    "\n",
    "#data processing\n",
    "n, m = X_train.shape\n",
    "n1,m1 = X_valid.shape\n",
    "ones = pd.DataFrame(np.ones((n,1)))\n",
    "ones1 = pd.DataFrame(np.ones((n1,1)))\n",
    "X_train = pd.concat([ones, X_train], axis=1, ignore_index = True)\n",
    "X_valid = pd.concat([ones1, X_valid], axis=1, ignore_index = True)\n",
    "\n",
    "\n",
    "ks = np.array([10, 30, 100, 300])\n",
    "error_results = []\n",
    "loss_result = []\n",
    "# Run logistic regression\n",
    "for k in ks:\n",
    "    #X_train, X_valid, Y_train, Y_valid, iteration\n",
    "    beta, loss = logitboost(X_train, X_valid, Y_train, Y_valid, k)\n",
    "    Y_predict_train = np.sign(np.dot(X_train, beta))\n",
    "    Y_predict_valid = np.sign(np.dot(X_valid, beta))\n",
    "    \n",
    "    Y_score_train = 0\n",
    "    Y_score_valid = 0\n",
    "    for j in range(n):\n",
    "        if Y_predict_train[j] == np.array(Y_train)[j]:\n",
    "            Y_score_train += 1\n",
    "        else :\n",
    "            continue\n",
    "    for j in range(n1):\n",
    "        if Y_predict_valid[j] == np.array(Y_valid)[j]:\n",
    "            Y_score_valid += 1\n",
    "        else :\n",
    "            continue\n",
    "    error_train = 1 - np.sum(Y_score_train)/n\n",
    "    error_test = 1 - np.sum(Y_score_valid)/n1\n",
    "    \n",
    "    error_results.append((k, error_train, error_test))\n",
    "    if k == 300:\n",
    "        loss_result = loss\n",
    "        \n",
    "x3 = pd.DataFrame(data = error_results, columns = ['k',\\\n",
    "                                'error_train', 'error_valid'])\n",
    "y3 = pd.DataFrame(data = loss_result, columns = ['i', 'loss'])\n",
    "\n",
    "x3"
   ]
  },
  {
   "cell_type": "code",
   "execution_count": 7,
   "metadata": {
    "scrolled": true
   },
   "outputs": [
    {
     "data": {
      "image/png": "[encoded data removed]",
      "text/plain": [
       "<Figure size 720x216 with 2 Axes>"
      ]
     },
     "metadata": {
      "needs_background": "light"
     },
     "output_type": "display_data"
    }
   ],
   "source": [
    "import matplotlib.pyplot as plt\n",
    "%matplotlib inline\n",
    "\n",
    "# Plot the results\n",
    "plt.figure(figsize=(10,3))\n",
    "plt.subplot(121)\n",
    "plt.plot(x3['k'], x3['error_train'], 'r-*', label='error of train set')\n",
    "plt.plot(x3['k'], x3['error_valid'], 'b-o', label='error of valid set')\n",
    "plt.xlabel('iteration')\n",
    "plt.ylabel('errors')\n",
    "plt.legend()\n",
    "\n",
    "plt.subplot(122)\n",
    "plt.plot(y3['i'], y3['loss'], 'r-', label='k=300')\n",
    "plt.xlabel('iteration')\n",
    "plt.ylabel('loss')\n",
    "plt.legend()\n",
    "plt.show()\n"
   ]
  },
  {
   "cell_type": "code",
   "execution_count": null,
   "metadata": {},
   "outputs": [],
   "source": []
  }
 ],
 "metadata": {
  "kernelspec": {
   "display_name": "Python 3",
   "language": "python",
   "name": "python3"
  },
  "language_info": {
   "codemirror_mode": {
    "name": "ipython",
    "version": 3
   },
   "file_extension": ".py",
   "mimetype": "text/x-python",
   "name": "python",
   "nbconvert_exporter": "python",
   "pygments_lexer": "ipython3",
   "version": "3.7.3"
  }
 },
 "nbformat": 4,
 "nbformat_minor": 2
}
